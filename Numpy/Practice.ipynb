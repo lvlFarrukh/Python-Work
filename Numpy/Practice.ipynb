{
 "cells": [
  {
   "cell_type": "markdown",
   "metadata": {},
   "source": [
    "# Class No 1"
   ]
  },
  {
   "cell_type": "raw",
   "metadata": {},
   "source": [
    "-> nd-array that hold data in sequence of memory location.\n",
    "-> cannot expend numpy array\n",
    "-> 3 attributes in numpy \n",
    "      1) ndim\n",
    "      2) dtype\n",
    "      3) shape\n",
    "      \n",
    "-> Numpy ch# 4 A2 in paper"
   ]
  },
  {
   "cell_type": "code",
   "execution_count": 3,
   "metadata": {},
   "outputs": [
    {
     "name": "stdout",
     "output_type": "stream",
     "text": [
      "[1 2 3 4 5 6]\n",
      "normal list: [1, 2, 3, 4, 5, 6, 1, 2, 3, 4, 5, 6]\n",
      "np array: [ 2  4  6  8 10 12]\n",
      "[0. 0. 0. 0. 0. 0.]\n",
      "[1. 1. 1. 1. 1. 1.]\n",
      "[1. 1. 1. 1. 1. 1.]\n",
      "[1 2 3 4 5]\n",
      "[[1. 1. 1.]\n",
      " [1. 1. 1.]\n",
      " [1. 1. 1.]]\n",
      "<built-in method reshape of numpy.ndarray object at 0x000002B949F88580>\n"
     ]
    }
   ],
   "source": [
    "import numpy as np\n",
    "\n",
    "data = [1,2,3,4,5,6]\n",
    "data1 = np.array(data)\n",
    "print(data1)\n",
    "\n",
    "print(f\"normal list: {data *2}\")\n",
    "print(f\"np array: {data1 * 2}\")\n",
    "\n",
    "data3 = np.zeros(6)\n",
    "print(data3)\n",
    "\n",
    "data4 = np.ones(6)\n",
    "print(data4)\n",
    "\n",
    "data5 = np.empty(6)\n",
    "print(data5)\n",
    "\n",
    "data6 = np.arange(1,6)\n",
    "print(data6)\n",
    "\n",
    "print(np.ones((3,3)))\n",
    "txt = [\"abc\",\"def\",\"ghi\",\"jkl\"]\n",
    "print(np.array(data).reshape)"
   ]
  },
  {
   "cell_type": "markdown",
   "metadata": {},
   "source": [
    "# Class 2\n",
    "\n",
    "-> Practice nltk library"
   ]
  },
  {
   "cell_type": "code",
   "execution_count": 63,
   "metadata": {},
   "outputs": [],
   "source": [
    "text = \"\"\"Most. of this book uses high-level tools. like. pandas.read_csv to read data files from\n",
    "disk into Python data structures. However, it\\’s Mr. important to understand the basics of\n",
    "how to work with files in Python. Fortunately\\, it’s very simple, which is one reason\n",
    "why Python is so popular for text and file munging? myhkjajs kajskdd kaksjd? hkjskajdjjkddddaas\"\"\""
   ]
  },
  {
   "cell_type": "code",
   "execution_count": 72,
   "metadata": {},
   "outputs": [],
   "source": [
    "data = np.array(text.split(\". \"))"
   ]
  },
  {
   "cell_type": "code",
   "execution_count": 91,
   "metadata": {},
   "outputs": [
    {
     "name": "stdout",
     "output_type": "stream",
     "text": [
      "['Most' 'of this book uses high-level tools' 'like'\n",
      " 'pandas.read_csv to read data files from\\ndisk into Python data structures'\n",
      " 'However, it\\\\’s Mr'\n",
      " 'important to understand the basics of\\nhow to work with files in Python'\n",
      " 'Fortunately\\\\, it’s very simple, which is one reason\\nwhy Python is so popular for text and file munging? myhkjajs kajskdd kaksjd? hkjskajdjjkddddaas']\n",
      "-------------\n",
      "['Most' 'like']\n",
      "['Most' 'like']\n"
     ]
    }
   ],
   "source": [
    "print(data)\n",
    "print(\"-------------\")\n",
    "fn = np.vectorize(len)\n",
    "\n",
    "# np.vectorize take any function and apply individual all element of the numpy arry....\n",
    "# in python we store function any variables.\n",
    "\n",
    "# print(fn())\n",
    "print(data[fn(data)<5])\n",
    "print(data[( np.vectorize(len)) (data) <5])"
   ]
  },
  {
   "cell_type": "code",
   "execution_count": 59,
   "metadata": {},
   "outputs": [
    {
     "name": "stdout",
     "output_type": "stream",
     "text": [
      "[[ 4  8 12 16]\n",
      " [20 24 28 32]]\n"
     ]
    }
   ],
   "source": [
    "arr = np.array([[1,2,3,4],[5,6,7,8]])\n",
    "arr2 = np.array(4)\n",
    "arr3 = arr*arr2\n",
    "print(arr3)"
   ]
  },
  {
   "cell_type": "markdown",
   "metadata": {},
   "source": [
    "# fancy indexing\n"
   ]
  },
  {
   "cell_type": "code",
   "execution_count": 105,
   "metadata": {},
   "outputs": [
    {
     "name": "stdout",
     "output_type": "stream",
     "text": [
      "[ 12  45  59 -89   0   0   4   5   8]\n",
      "[0 0 4]\n"
     ]
    }
   ],
   "source": [
    "ar = np.array([12,45,59,-89,0,0,4,5,8])\n",
    "print(ar)\n",
    "print(ar[[4,5,6]])"
   ]
  },
  {
   "cell_type": "markdown",
   "metadata": {},
   "source": [
    "# where"
   ]
  },
  {
   "cell_type": "code",
   "execution_count": 94,
   "metadata": {},
   "outputs": [
    {
     "data": {
      "text/plain": [
       "array([25000, 25000,  3000, 70000, 30000])"
      ]
     },
     "execution_count": 94,
     "metadata": {},
     "output_type": "execute_result"
    }
   ],
   "source": [
    "salary = np.array([0,-1,3000,70000,30000])\n",
    "np.where(salary<=0,25000,salary)"
   ]
  },
  {
   "cell_type": "markdown",
   "metadata": {},
   "source": [
    "# Mathematical and static methods"
   ]
  },
  {
   "cell_type": "code",
   "execution_count": 96,
   "metadata": {},
   "outputs": [
    {
     "name": "stdout",
     "output_type": "stream",
     "text": [
      "[ 12  57 116 205 239 242 246 251 259]\n",
      "[        12        540      31860    2835540   96408360  289225080\n",
      " 1156900320 1489534304 -968627456]\n"
     ]
    }
   ],
   "source": [
    "print(np.cumsum(ar))\n",
    "print(np.cumproduct(ar))"
   ]
  },
  {
   "cell_type": "code",
   "execution_count": 106,
   "metadata": {},
   "outputs": [
    {
     "name": "stdout",
     "output_type": "stream",
     "text": [
      "[ True  True  True False False False False False False]\n",
      "3\n",
      "44\n",
      "False\n"
     ]
    }
   ],
   "source": [
    "brr = ar>10\n",
    "print(brr)\n",
    "print(np.sum(brr))\n",
    "print(ar.sum())\n",
    "print(ar.all())"
   ]
  },
  {
   "cell_type": "markdown",
   "metadata": {},
   "source": [
    "# Save or Load\n",
    "\n",
    "-> npz means multiple arry save in one file\n",
    "-> here a = arr where a is key and arr is value that is array"
   ]
  },
  {
   "cell_type": "code",
   "execution_count": 113,
   "metadata": {},
   "outputs": [
    {
     "name": "stdout",
     "output_type": "stream",
     "text": [
      "[ 12  45  59 -89   0   0   4   5   8]\n"
     ]
    }
   ],
   "source": [
    "np.savez('arrays.npz', a = ar)\n",
    "arr12 = np.load('arrays.npz')\n",
    "print(arr12['a'])"
   ]
  },
  {
   "cell_type": "markdown",
   "metadata": {},
   "source": [
    "# Linear Algebra\n"
   ]
  },
  {
   "cell_type": "code",
   "execution_count": null,
   "metadata": {},
   "outputs": [],
   "source": []
  },
  {
   "cell_type": "markdown",
   "metadata": {},
   "source": [
    "# Converting 2d to array"
   ]
  },
  {
   "cell_type": "code",
   "execution_count": null,
   "metadata": {},
   "outputs": [],
   "source": []
  },
  {
   "cell_type": "code",
   "execution_count": 126,
   "metadata": {},
   "outputs": [
    {
     "name": "stdout",
     "output_type": "stream",
     "text": [
      "c [[1 2 3 4]\n",
      " [5 6 7 8]\n",
      " [7 8 9 0]\n",
      " [1 2 3 4]]\n",
      "hstack [[1 2 3 4]\n",
      " [5 6 7 8]\n",
      " [7 8 9 0]\n",
      " [1 2 3 4]]\n"
     ]
    }
   ],
   "source": [
    "a = np.array([[1,2,3,4],[5,6,7,8]])\n",
    "b = np.array([[7,8,9,0],[1,2,3,4]])\n",
    "c = np.concatenate([a,b],axis=0)\n",
    "print('c',c)\n",
    "print('hstack',np.vstack([a,b]))"
   ]
  },
  {
   "cell_type": "code",
   "execution_count": 120,
   "metadata": {},
   "outputs": [],
   "source": [
    "#hstack\n",
    "#vstack\n",
    "#important\n"
   ]
  },
  {
   "cell_type": "code",
   "execution_count": 131,
   "metadata": {},
   "outputs": [
    {
     "name": "stdout",
     "output_type": "stream",
     "text": [
      "[ 12  45  59 -89   0   0   4   5   8]\n",
      "Split:  [array([12]), array([45, 59]), array([-89,   0,   0]), array([4, 5, 8])]\n"
     ]
    }
   ],
   "source": [
    "print(ar)\n",
    "print(\"Split: \", np.split(ar,[1,3,6]))"
   ]
  },
  {
   "cell_type": "markdown",
   "metadata": {},
   "source": [
    "# CLASS N0 3"
   ]
  },
  {
   "cell_type": "code",
   "execution_count": 24,
   "metadata": {},
   "outputs": [
    {
     "name": "stdout",
     "output_type": "stream",
     "text": [
      "[[[111 112 113 114]\n",
      "  [121 122 123 124]\n",
      "  [131 132 133 134]]\n",
      "\n",
      " [[211 212 213 214]\n",
      "  [221 222 223 224]\n",
      "  [231 232 233 234]]\n",
      "\n",
      " [[311 312 313 314]\n",
      "  [321 322 323 324]\n",
      "  [331 332 333 334]]\n",
      "\n",
      " [[411 412 413 414]\n",
      "  [421 422 423 424]\n",
      "  [431 432 433 434]]]\n",
      "ndim : 3 shape : (4, 3, 4)\n",
      "333\n"
     ]
    }
   ],
   "source": [
    "import numpy as np\n",
    "ndarray = np.array(\n",
    "                    [\n",
    "                        [[111, 112, 113, 114], [121, 122, 123, 124], [131, 132, 133, 134]],\n",
    "                        [[211, 212, 213, 214], [221, 222, 223, 224], [231, 232, 233, 234]],\n",
    "                        [[311, 312, 313, 314], [321, 322, 323, 324], [331, 332, 333, 334]],\n",
    "                        [[411, 412, 413, 414], [421, 422, 423, 424], [431, 432, 433, 434]]\n",
    "                    ]\n",
    "                  )\n",
    "print(ndarray)\n",
    "print(\"ndim :\", ndarray.ndim, \"shape :\", ndarray.shape)\n",
    "print(ndarray[2, 2, 2])"
   ]
  },
  {
   "cell_type": "code",
   "execution_count": 34,
   "metadata": {},
   "outputs": [
    {
     "name": "stdout",
     "output_type": "stream",
     "text": [
      "4\n"
     ]
    }
   ],
   "source": [
    "print(len(ndarray))"
   ]
  },
  {
   "cell_type": "markdown",
   "metadata": {},
   "source": [
    "# Images Processing"
   ]
  },
  {
   "cell_type": "code",
   "execution_count": 3,
   "metadata": {},
   "outputs": [
    {
     "ename": "FileNotFoundError",
     "evalue": "[Errno 2] No such file or directory: 'bbaa.png'",
     "output_type": "error",
     "traceback": [
      "\u001b[1;31m---------------------------------------------------------------------------\u001b[0m",
      "\u001b[1;31mFileNotFoundError\u001b[0m                         Traceback (most recent call last)",
      "\u001b[1;32m<ipython-input-3-0a9abc75fedc>\u001b[0m in \u001b[0;36m<module>\u001b[1;34m\u001b[0m\n\u001b[0;32m     15\u001b[0m     \u001b[0minput\u001b[0m\u001b[1;33m(\u001b[0m\u001b[1;34m'press <ENTER> to continue'\u001b[0m\u001b[1;33m)\u001b[0m\u001b[1;33m\u001b[0m\u001b[1;33m\u001b[0m\u001b[0m\n\u001b[0;32m     16\u001b[0m \u001b[1;31m# %matplotlib inline\u001b[0m\u001b[1;33m\u001b[0m\u001b[1;33m\u001b[0m\u001b[1;33m\u001b[0m\u001b[0m\n\u001b[1;32m---> 17\u001b[1;33m \u001b[0mim\u001b[0m \u001b[1;33m=\u001b[0m \u001b[0mplt\u001b[0m\u001b[1;33m.\u001b[0m\u001b[0mimread\u001b[0m\u001b[1;33m(\u001b[0m\u001b[1;34m\"bbaa.png\"\u001b[0m\u001b[1;33m)\u001b[0m\u001b[1;33m\u001b[0m\u001b[1;33m\u001b[0m\u001b[0m\n\u001b[0m\u001b[0;32m     18\u001b[0m \u001b[0mprint\u001b[0m\u001b[1;33m(\u001b[0m\u001b[0mtype\u001b[0m\u001b[1;33m(\u001b[0m\u001b[0mim\u001b[0m \u001b[1;33m)\u001b[0m \u001b[1;33m)\u001b[0m\u001b[1;33m\u001b[0m\u001b[1;33m\u001b[0m\u001b[0m\n\u001b[0;32m     19\u001b[0m \u001b[0mplti\u001b[0m\u001b[1;33m(\u001b[0m\u001b[0mim\u001b[0m\u001b[1;33m)\u001b[0m\u001b[1;33m\u001b[0m\u001b[1;33m\u001b[0m\u001b[0m\n",
      "\u001b[1;32mC:\\ProgramData\\Anaconda3\\lib\\site-packages\\matplotlib\\pyplot.py\u001b[0m in \u001b[0;36mimread\u001b[1;34m(fname, format)\u001b[0m\n\u001b[0;32m   2150\u001b[0m \u001b[1;33m@\u001b[0m\u001b[0mdocstring\u001b[0m\u001b[1;33m.\u001b[0m\u001b[0mcopy_dedent\u001b[0m\u001b[1;33m(\u001b[0m\u001b[0mmatplotlib\u001b[0m\u001b[1;33m.\u001b[0m\u001b[0mimage\u001b[0m\u001b[1;33m.\u001b[0m\u001b[0mimread\u001b[0m\u001b[1;33m)\u001b[0m\u001b[1;33m\u001b[0m\u001b[1;33m\u001b[0m\u001b[0m\n\u001b[0;32m   2151\u001b[0m \u001b[1;32mdef\u001b[0m \u001b[0mimread\u001b[0m\u001b[1;33m(\u001b[0m\u001b[0mfname\u001b[0m\u001b[1;33m,\u001b[0m \u001b[0mformat\u001b[0m\u001b[1;33m=\u001b[0m\u001b[1;32mNone\u001b[0m\u001b[1;33m)\u001b[0m\u001b[1;33m:\u001b[0m\u001b[1;33m\u001b[0m\u001b[1;33m\u001b[0m\u001b[0m\n\u001b[1;32m-> 2152\u001b[1;33m     \u001b[1;32mreturn\u001b[0m \u001b[0mmatplotlib\u001b[0m\u001b[1;33m.\u001b[0m\u001b[0mimage\u001b[0m\u001b[1;33m.\u001b[0m\u001b[0mimread\u001b[0m\u001b[1;33m(\u001b[0m\u001b[0mfname\u001b[0m\u001b[1;33m,\u001b[0m \u001b[0mformat\u001b[0m\u001b[1;33m)\u001b[0m\u001b[1;33m\u001b[0m\u001b[1;33m\u001b[0m\u001b[0m\n\u001b[0m\u001b[0;32m   2153\u001b[0m \u001b[1;33m\u001b[0m\u001b[0m\n\u001b[0;32m   2154\u001b[0m \u001b[1;33m\u001b[0m\u001b[0m\n",
      "\u001b[1;32mC:\\ProgramData\\Anaconda3\\lib\\site-packages\\matplotlib\\image.py\u001b[0m in \u001b[0;36mimread\u001b[1;34m(fname, format)\u001b[0m\n\u001b[0;32m   1364\u001b[0m             \u001b[1;32mreturn\u001b[0m \u001b[0mhandler\u001b[0m\u001b[1;33m(\u001b[0m\u001b[0mfd\u001b[0m\u001b[1;33m)\u001b[0m\u001b[1;33m\u001b[0m\u001b[1;33m\u001b[0m\u001b[0m\n\u001b[0;32m   1365\u001b[0m         \u001b[1;32melse\u001b[0m\u001b[1;33m:\u001b[0m\u001b[1;33m\u001b[0m\u001b[1;33m\u001b[0m\u001b[0m\n\u001b[1;32m-> 1366\u001b[1;33m             \u001b[1;32mwith\u001b[0m \u001b[0mopen\u001b[0m\u001b[1;33m(\u001b[0m\u001b[0mfname\u001b[0m\u001b[1;33m,\u001b[0m \u001b[1;34m'rb'\u001b[0m\u001b[1;33m)\u001b[0m \u001b[1;32mas\u001b[0m \u001b[0mfd\u001b[0m\u001b[1;33m:\u001b[0m\u001b[1;33m\u001b[0m\u001b[1;33m\u001b[0m\u001b[0m\n\u001b[0m\u001b[0;32m   1367\u001b[0m                 \u001b[1;32mreturn\u001b[0m \u001b[0mhandler\u001b[0m\u001b[1;33m(\u001b[0m\u001b[0mfd\u001b[0m\u001b[1;33m)\u001b[0m\u001b[1;33m\u001b[0m\u001b[1;33m\u001b[0m\u001b[0m\n\u001b[0;32m   1368\u001b[0m     \u001b[1;32melse\u001b[0m\u001b[1;33m:\u001b[0m\u001b[1;33m\u001b[0m\u001b[1;33m\u001b[0m\u001b[0m\n",
      "\u001b[1;31mFileNotFoundError\u001b[0m: [Errno 2] No such file or directory: 'bbaa.png'"
     ]
    }
   ],
   "source": [
    "\n",
    "import numpy as np\n",
    "import matplotlib.pylab as plt   # For image reading\n",
    "\n",
    "def plti(im, h=8, **kwargs):\n",
    "    \"\"\"\n",
    "    Helper function to plot an image.\n",
    "    \"\"\"\n",
    "    y = im.shape[0]\n",
    "    x = im.shape[1]\n",
    "    w = (y/x) * h\n",
    "    plt.figure(figsize=(w,h))\n",
    "    plt.imshow(im, interpolation=\"none\", **kwargs)\n",
    "    plt.axis('off')\n",
    "    input('press <ENTER> to continue')\n",
    "# %matplotlib inline\n",
    "im = plt.imread(\"bbaa.png\")\n",
    "print(type(im ) )\n",
    "plti(im)\n",
    "im = im[400:3800,:2000,:]\n",
    "plti(im)\n",
    "print( im.shape )\n",
    "print(im[:5, :10, :10])\n",
    "\n",
    "im = im[400:3800,:2000,:]\n",
    "plti(im)"
   ]
  },
  {
   "cell_type": "markdown",
   "metadata": {},
   "source": [
    "# PANDAS"
   ]
  },
  {
   "cell_type": "markdown",
   "metadata": {},
   "source": [
    "numpy 1 dimensional array = pandas series"
   ]
  },
  {
   "cell_type": "code",
   "execution_count": 37,
   "metadata": {},
   "outputs": [
    {
     "name": "stdout",
     "output_type": "stream",
     "text": [
      "0    2\n",
      "1    4\n",
      "2    5\n",
      "3   -7\n",
      "dtype: int64\n"
     ]
    }
   ],
   "source": [
    "import pandas as pd\n",
    "\n",
    "ser = pd.Series([2,4,5,-7])\n",
    "print(ser)"
   ]
  },
  {
   "cell_type": "code",
   "execution_count": 39,
   "metadata": {},
   "outputs": [
    {
     "name": "stdout",
     "output_type": "stream",
     "text": [
      "0    100\n",
      "1    200\n",
      "2    300\n",
      "3    400\n",
      "dtype: int64\n",
      "[100 200 300 400]\n",
      "RangeIndex(start=0, stop=4, step=1)\n"
     ]
    }
   ],
   "source": [
    "val = pd.Series([100,200,300,400])\n",
    "print(val)\n",
    "print(val.values)\n",
    "print(val.index)"
   ]
  },
  {
   "cell_type": "code",
   "execution_count": 46,
   "metadata": {},
   "outputs": [
    {
     "name": "stdout",
     "output_type": "stream",
     "text": [
      "a    100\n",
      "b    200\n",
      "c    300\n",
      "d    400\n",
      "e    500\n",
      "Name: client data, dtype: int64\n",
      "a    False\n",
      "b    False\n",
      "c     True\n",
      "d     True\n",
      "e     True\n",
      "Name: client data, dtype: bool\n",
      "c    300\n",
      "d    400\n",
      "e    500\n",
      "Name: client data, dtype: int64\n",
      "a     200\n",
      "b     400\n",
      "c     600\n",
      "d     800\n",
      "e    1000\n",
      "Name: client data, dtype: int64\n"
     ]
    }
   ],
   "source": [
    "val = pd.Series([100,200,300,400,500], index = ['a','b','c','d','e'], name = 'client data')\n",
    "print(val)\n",
    "print(val > 200)\n",
    "print(val[val > 200])\n",
    "print(val * 2)"
   ]
  },
  {
   "cell_type": "code",
   "execution_count": 10,
   "metadata": {},
   "outputs": [
    {
     "name": "stdout",
     "output_type": "stream",
     "text": [
      "Mon      10\n",
      "Tues      8\n",
      "Wed       9\n",
      "thres     5\n",
      "Fri      15\n",
      "Sat       0\n",
      "Sun       0\n",
      "Name: Weekly Orders, dtype: int64\n",
      "Wed    18\n",
      "Fri    30\n",
      "Name: Weekly Orders, dtype: int64\n"
     ]
    }
   ],
   "source": [
    "import pandas as pd\n",
    "orders = pd.Series([10,8,9,5,15,0,0], index = ['Mon','Tues','Wed','thres','Fri','Sat','Sun'], name=\"Weekly Orders\")\n",
    "print(orders)\n",
    "\n",
    "new_order = 2 * orders\n",
    "# print(\"Wednesday: \",new_order['Wed'],\"\\nFriday: \",new_order['Fri'])\n",
    "print(new_order[['Wed','Fri']])"
   ]
  },
  {
   "cell_type": "markdown",
   "metadata": {},
   "source": [
    "## Class 4"
   ]
  },
  {
   "cell_type": "code",
   "execution_count": 2,
   "metadata": {},
   "outputs": [
    {
     "ename": "SyntaxError",
     "evalue": "invalid syntax (<ipython-input-2-546538212205>, line 12)",
     "output_type": "error",
     "traceback": [
      "\u001b[1;36m  File \u001b[1;32m\"<ipython-input-2-546538212205>\"\u001b[1;36m, line \u001b[1;32m12\u001b[0m\n\u001b[1;33m    path, dirs, files = next(os.walk(\"/Download/pics\"))\u001b[0m\n\u001b[1;37m       ^\u001b[0m\n\u001b[1;31mSyntaxError\u001b[0m\u001b[1;31m:\u001b[0m invalid syntax\n"
     ]
    }
   ],
   "source": [
    "import os \n",
    "\n",
    "import PIL as pil\n",
    "\n",
    "def imageToNp(imageName):\n",
    "      #cheak if the file is really an image \n",
    "      try:\n",
    "          npa = pil.Image (imageName)\n",
    "          return npa\n",
    "      except(#trap valid exception name is better):\n",
    "          print(\"Valid Error\")\n",
    "path, dirs, files = next(os.walk(\"/Download/pics\"))\n",
    "file_count = len(files)\n",
    "image_array = np.zeros(file_count. 200, 200, 3)\n",
    "\n",
    "for _,_ files in next(os.walk(\"/Download/pics\")):\n",
    "    idx = 0\n",
    "    for file in files:\n",
    "        image_aray =(idx , imageToNp(file)\n",
    "        idx = idx + 1"
   ]
  },
  {
   "cell_type": "markdown",
   "metadata": {},
   "source": [
    "# Assaignment\n",
    "folder of pics containing name \"photos\".\n",
    "help with coding guidline form search in google\n",
    "direct store image in numpy array"
   ]
  },
  {
   "cell_type": "code",
   "execution_count": 13,
   "metadata": {},
   "outputs": [
    {
     "name": "stdout",
     "output_type": "stream",
     "text": [
      "Punjab         4000.0\n",
      "Sindh          2000.0\n",
      "KPK            1000.0\n",
      "Balochistan    3500.0\n",
      "GB                NaN\n",
      "dtype: float64\n",
      "Punjab         4000.0\n",
      "Sindh          2000.0\n",
      "KPK            1000.0\n",
      "Balochistan    3500.0\n",
      "GB             7000.0\n",
      "dtype: float64\n"
     ]
    }
   ],
   "source": [
    "state = {\"Sindh\": 2000, \"KPK\": 1000, \"Punjab\": 4000, \"Balochistan\": 3500}\n",
    "\n",
    "tax_state = pd.Series(state, index = [\"Punjab\", \"Sindh\", \"KPK\", \"Balochistan\", \"GB\"])\n",
    "print(tax_state)\n",
    "tax_state['GB'] = 7000\n",
    "print(tax_state)"
   ]
  },
  {
   "cell_type": "code",
   "execution_count": 38,
   "metadata": {},
   "outputs": [
    {
     "name": "stdout",
     "output_type": "stream",
     "text": [
      "   Apple  Orange\n",
      "a    1.0     NaN\n",
      "b    2.0     NaN\n",
      "c    3.0     NaN\n",
      "d    4.0     NaN\n",
      "e    NaN     3.0\n",
      "f    NaN     4.0\n",
      "g    NaN     5.0\n",
      "h    NaN     1.0\n"
     ]
    }
   ],
   "source": [
    "import pandas as pd\n",
    "apple = pd.Series([1,2,3,4], [\"a\",\"b\",\"c\",\"d\"])\n",
    "orange = pd.Series([3,4,5,1], [\"e\",\"f\",\"g\",\"h\"])\n",
    "banana = pd.Series([])\n",
    "\n",
    "data = {\"Apple\": apple, \"Orange\": orange}\n",
    "\n",
    "fruit_df = pd.DataFrame(data)\n",
    "print(fruit_df)"
   ]
  },
  {
   "cell_type": "code",
   "execution_count": null,
   "metadata": {},
   "outputs": [],
   "source": []
  }
 ],
 "metadata": {
  "kernelspec": {
   "display_name": "Python 3",
   "language": "python",
   "name": "python3"
  },
  "language_info": {
   "codemirror_mode": {
    "name": "ipython",
    "version": 3
   },
   "file_extension": ".py",
   "mimetype": "text/x-python",
   "name": "python",
   "nbconvert_exporter": "python",
   "pygments_lexer": "ipython3",
   "version": "3.7.3"
  }
 },
 "nbformat": 4,
 "nbformat_minor": 2
}
