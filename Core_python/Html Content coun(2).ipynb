{
 "cells": [
  {
   "cell_type": "code",
   "execution_count": 55,
   "metadata": {},
   "outputs": [
    {
     "name": "stdout",
     "output_type": "stream",
     "text": [
      "Enter File Name: example_html_file\n",
      "~~~~~~~~~~~~~~~~~~~~~~~~~~~~~~~~~~~~~~~~~~~~~~~~~~~~~~~~~~~~~~~~~~~~~~~~~~~~~~~~~~~~~~~~~~~~~~~~~~~~\n",
      "                                              Contents\n",
      "~~~~~~~~~~~~~~~~~~~~~~~~~~~~~~~~~~~~~~~~~~~~~~~~~~~~~~~~~~~~~~~~~~~~~~~~~~~~~~~~~~~~~~~~~~~~~~~~~~~~\n",
      "No. of Words: 81\n",
      "No. of tags: 11\n",
      "No. of lines: 34\n",
      "No. of spaces: 52\n"
     ]
    }
   ],
   "source": [
    "def file_contents(filename): \n",
    "    try:\n",
    "        with open(filename,encoding='utf8') as f_obj:\n",
    "            content = f_obj.read()\n",
    "    except FileNotFoundError:\n",
    "        msg = \"Sorry, the file \" + filename + \" does not exist.\"\n",
    "        print(msg)\n",
    "    else:\n",
    "        no_words = len(content.split())\n",
    "        no_tag = len(content.split(\"</\"))\n",
    "        no_lines = len(content.split(\"\\n\")) - len(content.split(\"\\n\\n\"))\n",
    "        no_spaces = len(content.split(\" \")) - len(content.split(\"\\n\\n\")) - len(content.split(\"  \"))\n",
    "       # print(content)\n",
    "        print(f\"{'~' * 100}\")\n",
    "        print(f\"{' ' * 45} Contents\")\n",
    "        print(f\"{'~' * 100}\")\n",
    "        print(f\"No. of Words: {no_words}\")\n",
    "        print(f\"No. of tags: {no_tag}\")\n",
    "        print(f\"No. of lines: {no_lines}\")\n",
    "        print(f\"No. of spaces: {no_spaces}\")\n",
    "file = input(\"Enter File Name: \")\n",
    "file = file+\".html\"\n",
    "file_contents(file)\n"
   ]
  },
  {
   "cell_type": "code",
   "execution_count": 76,
   "metadata": {},
   "outputs": [
    {
     "name": "stdout",
     "output_type": "stream",
     "text": [
      "Enter File Name: sample_text_file\n",
      "~~~~~~~~~~~~~~~~~~~~~~~~~~~~~~~~~~~~~~~~~~~~~~~~~~~~~~~~~~~~~~~~~~~~~~~~~~~~~~~~~~~~~~~~~~~~~~~~~~~~\n",
      "                                              Contents\n",
      "~~~~~~~~~~~~~~~~~~~~~~~~~~~~~~~~~~~~~~~~~~~~~~~~~~~~~~~~~~~~~~~~~~~~~~~~~~~~~~~~~~~~~~~~~~~~~~~~~~~~\n",
      "Number of Words: 50896\n",
      "Number of Lines: 4821\n",
      "Number of Nonspace Characters: 82864\n",
      "Number of Spaces: 38128\n",
      "Number of Tabs: 35\n",
      "Number of Paragraph: 2\n"
     ]
    }
   ],
   "source": [
    "def file_contents(filename): \n",
    "    try:\n",
    "        with open(filename,encoding='utf8') as f_obj:\n",
    "            contents = f_obj.read()\n",
    "    except FileNotFoundError:\n",
    "        msg = \"Sorry, the file \" + filename + \" does not exist.\"\n",
    "        print(msg)\n",
    "    else:\n",
    "        no_words = len(contents.split(\" \"))\n",
    "        no_words = no_words - len(contents.split(\". .\"))\n",
    "        no_lines = len(contents.split(\"\\n\")) - len(contents.split(\"\\n\\n\"))\n",
    "        no_nonpace_char = len(contents.replace(\" \",\"\"))\n",
    "        no_space = len(contents.split())\n",
    "        no_tabs = len(contents.split(\"\\t\"))\n",
    "        no_paragraph = len(contents.split(\"\\n\\r\")) + len(contents.split(\"\\r\")) \n",
    "        print(f\"{'~' * 100}\")\n",
    "        print(f\"{' ' * 45} Contents\")\n",
    "        print(f\"{'~' * 100}\")\n",
    "        print(f\"Number of Words: {no_words}\")\n",
    "        print(f\"Number of Lines: {no_lines}\")\n",
    "        print(f\"Number of Nonspace Characters: {no_nonpace_char}\")\n",
    "        print(f\"Number of Spaces: {no_space}\")\n",
    "        print(f\"Number of Tabs: {no_tabs}\")\n",
    "        print(f\"Number of Paragraph: {no_paragraph}\")\n",
    "file = input(\"Enter File Name: \")\n",
    "file = file+\".txt4\"\n",
    "file_contents(file)"
   ]
  },
  {
   "cell_type": "code",
   "execution_count": null,
   "metadata": {},
   "outputs": [],
   "source": []
  }
 ],
 "metadata": {
  "kernelspec": {
   "display_name": "Python 3",
   "language": "python",
   "name": "python3"
  },
  "language_info": {
   "codemirror_mode": {
    "name": "ipython",
    "version": 3
   },
   "file_extension": ".py",
   "mimetype": "text/x-python",
   "name": "python",
   "nbconvert_exporter": "python",
   "pygments_lexer": "ipython3",
   "version": "3.7.3"
  }
 },
 "nbformat": 4,
 "nbformat_minor": 2
}
