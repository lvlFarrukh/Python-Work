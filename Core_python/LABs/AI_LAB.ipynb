{
 "cells": [
  {
   "cell_type": "markdown",
   "metadata": {},
   "source": [
    "# LAB N0 1\n",
    "***Name: FARRUKH ASLAM***\n",
    " ***Roll No: 2017-CE-149***"
   ]
  },
  {
   "cell_type": "code",
   "execution_count": 1,
   "metadata": {},
   "outputs": [
    {
     "name": "stdout",
     "output_type": "stream",
     "text": [
      "Enter Number: 7\n",
      "Result:  12\n"
     ]
    }
   ],
   "source": [
    "#Task N0 1\n",
    "num = int(input(\"Enter Number: \"))\n",
    "print(\"Result: \",num+3*2-4+3)\n"
   ]
  },
  {
   "cell_type": "code",
   "execution_count": 3,
   "metadata": {},
   "outputs": [
    {
     "name": "stdout",
     "output_type": "stream",
     "text": [
      "Enter Radius: 7.3\n",
      "Area:  334.83094501960016\n"
     ]
    }
   ],
   "source": [
    "#Task N0 2\n",
    "from math import pi\n",
    "r = float(input(\"Enter Radius: \"))\n",
    "print(\"Area: \",2*pi*r**2)"
   ]
  },
  {
   "cell_type": "code",
   "execution_count": 6,
   "metadata": {},
   "outputs": [
    {
     "name": "stdout",
     "output_type": "stream",
     "text": [
      "Input your favourite Color: blue\n",
      "blueblueblueblueblueblueblueblueblueblue\n",
      "blue                                blue\n",
      "blueblueblueblueblueblueblueblueblueblue\n"
     ]
    }
   ],
   "source": [
    "#Task N0 3\n",
    "color = input(\"Input your favourite Color: \")\n",
    "print(f\"{color*10}\\n{color+len(color)*8*' '+color}\\n{color*10}\")"
   ]
  },
  {
   "cell_type": "code",
   "execution_count": 14,
   "metadata": {},
   "outputs": [
    {
     "name": "stdout",
     "output_type": "stream",
     "text": [
      "lstrip: Pakistan Zindabad\t .\n",
      "rstrip: \tPakistan Zindabad .\n",
      "strip:  Pakistan Zindabad .\n"
     ]
    }
   ],
   "source": [
    "#Task N0 4\n",
    "text = \"\\tPakistan Zindabad\\t\"\n",
    "print(\"lstrip:\",text.lstrip(),'.')\n",
    "print(\"rstrip:\",text.rstrip(),'.')\n",
    "print(\"strip: \",text.strip(),'.')"
   ]
  }
 ],
 "metadata": {
  "kernelspec": {
   "display_name": "Python 3",
   "language": "python",
   "name": "python3"
  },
  "language_info": {
   "codemirror_mode": {
    "name": "ipython",
    "version": 3
   },
   "file_extension": ".py",
   "mimetype": "text/x-python",
   "name": "python",
   "nbconvert_exporter": "python",
   "pygments_lexer": "ipython3",
   "version": "3.7.3"
  }
 },
 "nbformat": 4,
 "nbformat_minor": 2
}
