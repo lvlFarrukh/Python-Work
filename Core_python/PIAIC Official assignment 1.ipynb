{
 "cells": [
  {
   "cell_type": "markdown",
   "metadata": {},
   "source": [
    "## 1. Calculate Area of a Circle"
   ]
  },
  {
   "cell_type": "markdown",
   "metadata": {},
   "source": [
    "#### Write a Python program which accepts the radius of a circle from the user and compute the area.\n",
    "###### Program Console Sample Output 1:\n",
    "###### Input Radius: 0.5\n",
    "###### Area of Circle with radius 0.5 is 0.7853981634"
   ]
  },
  {
   "cell_type": "code",
   "execution_count": 1,
   "metadata": {},
   "outputs": [
    {
     "name": "stdout",
     "output_type": "stream",
     "text": [
      "Enter Radius: 0.5\n"
     ]
    }
   ],
   "source": [
    "radius = float(input(\"Enter Radius: \"))"
   ]
  },
  {
   "cell_type": "code",
   "execution_count": 2,
   "metadata": {},
   "outputs": [],
   "source": [
    "area = 3.142 * (radius ** 2)"
   ]
  },
  {
   "cell_type": "code",
   "execution_count": 3,
   "metadata": {},
   "outputs": [
    {
     "name": "stdout",
     "output_type": "stream",
     "text": [
      "Area of Circle with radius 0.5 is 0.7855\n"
     ]
    }
   ],
   "source": [
    "print(f\"Area of Circle with radius {radius} is {area}\")"
   ]
  },
  {
   "cell_type": "markdown",
   "metadata": {},
   "source": [
    "## 2. Check Number either positive, negative or zero"
   ]
  },
  {
   "cell_type": "markdown",
   "metadata": {},
   "source": [
    "#### Write a Python program to check if a number is positive, negative or zero\n",
    "###### Program Console Sample Output 1:\n",
    "###### Enter Number: -1\n",
    "##### Negative Number Entered\n",
    "###### Program Console Sample Output 2:\n",
    "##### Integer: 3\n",
    "##### Positive Number Entered\n",
    "###### Program Console Sample Output 3:\n",
    "##### Integer: 0\n",
    "###### Zero Entered"
   ]
  },
  {
   "cell_type": "code",
   "execution_count": 4,
   "metadata": {},
   "outputs": [
    {
     "name": "stdout",
     "output_type": "stream",
     "text": [
      "Enter any number: 5\n"
     ]
    }
   ],
   "source": [
    "num = int(input(\"Enter any number: \"))"
   ]
  },
  {
   "cell_type": "code",
   "execution_count": 5,
   "metadata": {},
   "outputs": [],
   "source": [
    "if num == 0:\n",
    "    print(\"Zero Entered\")"
   ]
  },
  {
   "cell_type": "code",
   "execution_count": 6,
   "metadata": {},
   "outputs": [
    {
     "name": "stdout",
     "output_type": "stream",
     "text": [
      "Positive Number Entered\n"
     ]
    }
   ],
   "source": [
    "if num > 0:\n",
    "    print(\"Positive Number Entered\")"
   ]
  },
  {
   "cell_type": "code",
   "execution_count": 7,
   "metadata": {},
   "outputs": [],
   "source": [
    "if num < 0:\n",
    "    print(\"Negative Number Entered\")"
   ]
  },
  {
   "cell_type": "markdown",
   "metadata": {},
   "source": [
    "## 3. Divisibility Check of two numbers"
   ]
  },
  {
   "cell_type": "markdown",
   "metadata": {},
   "source": [
    "#### Write a Python program to check whether a number is completely divisible by another number. Accept two integer values form the user\n",
    "##### Program Console Sample Output 1:\n",
    "###### Enter numerator: 4\n",
    "###### Enter Denominator: 2\n",
    "##### Number 4 is Completely divisible by 2\n",
    "###### Program Console Sample Output 2:\n",
    "##### Enter numerator: 7\n",
    "\n",
    "##### Enter Denominator: 4\n",
    "###### Number 7 is not Completely divisible by 4"
   ]
  },
  {
   "cell_type": "code",
   "execution_count": 8,
   "metadata": {},
   "outputs": [
    {
     "name": "stdout",
     "output_type": "stream",
     "text": [
      "Enter Numerator: 6\n"
     ]
    }
   ],
   "source": [
    "num = int(input(\"Enter Numerator: \"))"
   ]
  },
  {
   "cell_type": "code",
   "execution_count": 9,
   "metadata": {},
   "outputs": [
    {
     "name": "stdout",
     "output_type": "stream",
     "text": [
      "Enter Denominator: 3\n"
     ]
    }
   ],
   "source": [
    "den = int(input(\"Enter Denominator: \"))"
   ]
  },
  {
   "cell_type": "code",
   "execution_count": 10,
   "metadata": {},
   "outputs": [
    {
     "name": "stdout",
     "output_type": "stream",
     "text": [
      "Number 6 is Completely divisible by 3\n"
     ]
    }
   ],
   "source": [
    "if (num % den) == 0:\n",
    "    print(f\"Number {num} is Completely divisible by {den}\")"
   ]
  },
  {
   "cell_type": "code",
   "execution_count": 11,
   "metadata": {},
   "outputs": [],
   "source": [
    "if (num % den) != 0:\n",
    "    print(f\"Number {num} is not Completely divisible by {den}\")"
   ]
  },
  {
   "cell_type": "markdown",
   "metadata": {},
   "source": [
    "## 4. Days Calculator"
   ]
  },
  {
   "cell_type": "markdown",
   "metadata": {},
   "source": [
    "#### Write a Python program to calculate number of days between two dates"
   ]
  },
  {
   "cell_type": "markdown",
   "metadata": {},
   "source": [
    "#### Program Console Output:\n",
    "#### Enter a date in (dd/mm/yy) format: 12/12/2018\n",
    "#### Enter a date in (dd/mm/yy) format: 16/12/2018\n",
    "#### There are 4 days in between 12/12/2018 and 16/12/18"
   ]
  },
  {
   "cell_type": "code",
   "execution_count": 6,
   "metadata": {},
   "outputs": [
    {
     "name": "stdout",
     "output_type": "stream",
     "text": [
      "Enter a date in (dd/mm/yy) formt: 12/12/2018\n"
     ]
    }
   ],
   "source": [
    "d1 , m1 , y1 = input(\"Enter a date in (dd/mm/yy) formt: \").split(\"/\")"
   ]
  },
  {
   "cell_type": "code",
   "execution_count": 7,
   "metadata": {},
   "outputs": [
    {
     "name": "stdout",
     "output_type": "stream",
     "text": [
      "Enter a date in (dd/mm/yy) formt: 16/12/2018\n"
     ]
    }
   ],
   "source": [
    "d2 , m2 , y2 = input(\"Enter a date in (dd/mm/yy) formt: \").split(\"/\")"
   ]
  },
  {
   "cell_type": "code",
   "execution_count": 10,
   "metadata": {},
   "outputs": [
    {
     "name": "stdout",
     "output_type": "stream",
     "text": [
      "There are 4 in between 12/12/2018 and 16/12/2018\n"
     ]
    }
   ],
   "source": [
    "print(f\"There are {int(d2)-int(d1} in between {d1}/{m1}/{y1} and {d2}/{m2}/{y2}\")"
   ]
  },
  {
   "cell_type": "markdown",
   "metadata": {},
   "source": [
    "## 5. Calculate Volume of a sphere"
   ]
  },
  {
   "cell_type": "markdown",
   "metadata": {},
   "source": [
    "##### Write a Python program to get the volume of a sphere, please take the radius as input from user"
   ]
  },
  {
   "cell_type": "markdown",
   "metadata": {},
   "source": [
    "##### Program Console Output:\n",
    "##### Enter Radius of Sphere: 1\n",
    "###### Volume of the Sphere with Radius 1 is 4.18"
   ]
  },
  {
   "cell_type": "code",
   "execution_count": 12,
   "metadata": {},
   "outputs": [
    {
     "name": "stdout",
     "output_type": "stream",
     "text": [
      "Enter Radius of Sphere: 2\n"
     ]
    }
   ],
   "source": [
    "radius = int(input(\"Enter Radius of Sphere: \"))"
   ]
  },
  {
   "cell_type": "code",
   "execution_count": 13,
   "metadata": {},
   "outputs": [],
   "source": [
    "volume = (4/3) * 3.14 * (radius ** 3)"
   ]
  },
  {
   "cell_type": "code",
   "execution_count": 14,
   "metadata": {},
   "outputs": [
    {
     "name": "stdout",
     "output_type": "stream",
     "text": [
      "Volume of the Sphere with Radius 2 is 33.49333333333333\n"
     ]
    }
   ],
   "source": [
    "print(f\"Volume of the Sphere with Radius {radius} is {volume}\")"
   ]
  },
  {
   "cell_type": "markdown",
   "metadata": {},
   "source": [
    "## 6. Copy string n times\n",
    "#### Write a Python program to get a string which is n (non-negative integer) copies of a given string.\n",
    "##### Program Console Output:\n",
    "##### Enter String: Hi\n",
    "###### How many copies of String you need: 4\n",
    "###### 4 Copies of Hi are HiHiHiHi"
   ]
  },
  {
   "cell_type": "code",
   "execution_count": 15,
   "metadata": {},
   "outputs": [
    {
     "name": "stdout",
     "output_type": "stream",
     "text": [
      "Enter String: farrukh\n"
     ]
    }
   ],
   "source": [
    "text = input(\"Enter String: \")"
   ]
  },
  {
   "cell_type": "code",
   "execution_count": 16,
   "metadata": {},
   "outputs": [
    {
     "name": "stdout",
     "output_type": "stream",
     "text": [
      "How many copies of String you need: 7\n"
     ]
    }
   ],
   "source": [
    "copy = int(input(\"How many copies of String you need: \"))"
   ]
  },
  {
   "cell_type": "code",
   "execution_count": 17,
   "metadata": {},
   "outputs": [
    {
     "name": "stdout",
     "output_type": "stream",
     "text": [
      "7 Copies of farrukh are farrukhfarrukhfarrukhfarrukhfarrukhfarrukhfarrukh\n"
     ]
    }
   ],
   "source": [
    "print(f\"{copy} Copies of {text} are {copy*text}\")"
   ]
  },
  {
   "cell_type": "markdown",
   "metadata": {},
   "source": [
    "## 7. Check if number is Even or Odd\n",
    "### Write a Python program to find whether a given number (accept from the user) is even or odd, print out an appropriate message to the user\n",
    "#### Program Console Output 1:\n",
    "##### Enter Number: 4\n",
    "###### 4 is Even\n",
    "#### Program Console Output 2:\n",
    "##### Enter Number: 9\n",
    "###### 9 is Odd"
   ]
  },
  {
   "cell_type": "code",
   "execution_count": 18,
   "metadata": {},
   "outputs": [
    {
     "name": "stdout",
     "output_type": "stream",
     "text": [
      "Enter Number: 3\n"
     ]
    }
   ],
   "source": [
    "num = int(input(\"Enter Number: \"))"
   ]
  },
  {
   "cell_type": "code",
   "execution_count": 19,
   "metadata": {},
   "outputs": [
    {
     "name": "stdout",
     "output_type": "stream",
     "text": [
      "3 is Odd\n"
     ]
    }
   ],
   "source": [
    "if (num % 2) == 0:\n",
    "    print(f\"{num} is Even\")\n",
    "else:\n",
    "    print(f\"{num} is Odd\")"
   ]
  },
  {
   "cell_type": "markdown",
   "metadata": {},
   "source": [
    "## 8. Vowel Tester\n",
    "\n",
    "### Write a Python program to test whether a passed letter is a vowel or not\n",
    "\n",
    "#### Program Console Output 1:\n",
    "##### Enter a character: A\n",
    "##### Letter A is Vowel\n",
    "\n",
    "#### Program Console Output 2:\n",
    "##### Enter a character: e\n",
    "##### Letter e is Vowel\n",
    "\n",
    "#### Program Console Output 2:\n",
    "##### Enter a character: N\n",
    "##### Letter N is not Vowel"
   ]
  },
  {
   "cell_type": "code",
   "execution_count": 20,
   "metadata": {},
   "outputs": [
    {
     "name": "stdout",
     "output_type": "stream",
     "text": [
      "Enter a Charcter: d\n"
     ]
    }
   ],
   "source": [
    "chr = input(\"Enter a Charcter: \")"
   ]
  },
  {
   "cell_type": "code",
   "execution_count": 21,
   "metadata": {},
   "outputs": [
    {
     "name": "stdout",
     "output_type": "stream",
     "text": [
      "Letter d is Not Vowel\n"
     ]
    }
   ],
   "source": [
    "if chr == \"a\" or chr == \"e\" or chr == \"i\" or chr == \"o\" or chr == \"u\" or chr == \"A\" or chr == \"E\" or chr == \"I\" or chr == \"O\" or chr == \"U\":\n",
    "    print(f\"Letter {chr} is vowel\")\n",
    "else:\n",
    "    print(f\"Letter {chr} is Not Vowel\")"
   ]
  },
  {
   "cell_type": "markdown",
   "metadata": {},
   "source": [
    "## 9. Triangle area\n",
    "### Write a Python program that will accept the base and height of a triangle and compute the area\n",
    "###### Reference:\n",
    "https://www.mathgoodies.com/lessons/vol1/area_triangle"
   ]
  },
  {
   "cell_type": "code",
   "execution_count": 22,
   "metadata": {},
   "outputs": [
    {
     "name": "stdout",
     "output_type": "stream",
     "text": [
      "Enter Base: 32\n"
     ]
    }
   ],
   "source": [
    "base = float(input(\"Enter Base: \"))"
   ]
  },
  {
   "cell_type": "code",
   "execution_count": 23,
   "metadata": {},
   "outputs": [
    {
     "name": "stdout",
     "output_type": "stream",
     "text": [
      "Enter Height: 43\n"
     ]
    }
   ],
   "source": [
    "height = float(input(\"Enter Height: \"))"
   ]
  },
  {
   "cell_type": "code",
   "execution_count": null,
   "metadata": {},
   "outputs": [
    {
     "name": "stdout",
     "output_type": "stream",
     "text": [
      "Area of Trinangle is 1376.0\n"
     ]
    }
   ],
   "source": [
    "print(f\"Area of Trinangle is {base*height}\")"
   ]
  },
  {
   "cell_type": "markdown",
   "metadata": {},
   "source": []
  },
  {
   "cell_type": "markdown",
   "metadata": {},
   "source": [
    "## 10. Calculate Interest\n",
    "### Write a Python program to compute the future value of a specified principal amount, rate of interest, and a number of years\n",
    "#### Program Console Sample 1:\n",
    "##### Please enter principal amount: 10000\n",
    "###### Please Enter Rate of interest in %: 0.1\n",
    "###### Enter number of years for investment: 5\n",
    "###### After 5 years your principal amount 10000 over an interest rate of 0.1 % will be 16105.1"
   ]
  },
  {
   "cell_type": "code",
   "execution_count": null,
   "metadata": {},
   "outputs": [
    {
     "name": "stdout",
     "output_type": "stream",
     "text": [
      "Please enter principal amount: 23\n"
     ]
    }
   ],
   "source": [
    "p_amount = int(input(\"Please enter principal amount: \"))"
   ]
  },
  {
   "cell_type": "code",
   "execution_count": null,
   "metadata": {},
   "outputs": [
    {
     "name": "stdout",
     "output_type": "stream",
     "text": [
      "Please Enter Rate of interest in %: 23\n"
     ]
    }
   ],
   "source": [
    "rate_of_interest = float(input(\"Please Enter Rate of interest in %: \"))"
   ]
  },
  {
   "cell_type": "code",
   "execution_count": null,
   "metadata": {},
   "outputs": [
    {
     "name": "stdout",
     "output_type": "stream",
     "text": [
      "Enter number of years for investment: 23\n"
     ]
    }
   ],
   "source": [
    "year = int(input(\"Enter number of years for investment: \"))"
   ]
  },
  {
   "cell_type": "code",
   "execution_count": null,
   "metadata": {},
   "outputs": [],
   "source": [
    "for i in range(year):\n",
    "    res = p_amount * (1+rate_of_interest)"
   ]
  },
  {
   "cell_type": "code",
   "execution_count": null,
   "metadata": {},
   "outputs": [
    {
     "name": "stdout",
     "output_type": "stream",
     "text": [
      "After 23 years your principal amount 23 over an interest rate of 23.0 % will be 552.0\n"
     ]
    }
   ],
   "source": [
    "print(f\"After {year} years your principal amount {p_amount} over an interest rate of {rate_of_interest} % will be {res}\")"
   ]
  },
  {
   "cell_type": "code",
   "execution_count": null,
   "metadata": {},
   "outputs": [],
   "source": []
  },
  {
   "cell_type": "markdown",
   "metadata": {},
   "source": [
    "## 11. Euclidean distance\n",
    "### write a Python program to compute the distance between the points (x1, y1) and (x2, y2).\n",
    "#### Program Console Sample 1:\n",
    "###### Enter Co-ordinate for x1: 2\n",
    "###### Enter Co-ordinate for x2: 4\n",
    "###### Enter Co-ordinate for y1: 4\n",
    "###### Enter Co-ordinate for y2: 4\n",
    "###### Distance between points (2, 4) and (4, 4) is 2"
   ]
  },
  {
   "cell_type": "markdown",
   "metadata": {},
   "source": [
    "###### Reference:\n",
    "https://en.wikipedia.org/wiki/Euclidean_distance"
   ]
  },
  {
   "cell_type": "code",
   "execution_count": null,
   "metadata": {},
   "outputs": [
    {
     "name": "stdout",
     "output_type": "stream",
     "text": [
      "Enter Co-ordinate For x1: 3\n",
      "Enter Co-ordinate For x2: 4\n",
      "Enter Co-ordinate For y1: 1\n",
      "Enter Co-ordinate For y2: 2\n"
     ]
    }
   ],
   "source": [
    "import math\n",
    "a=int(input(\"Enter Co-ordinate For x1: \"))\n",
    "b=int(input(\"Enter Co-ordinate For x2: \"))\n",
    "c=int(input(\"Enter Co-ordinate For y1: \"))\n",
    "d=int(input(\"Enter Co-ordinate For y2: \"))\n"
   ]
  },
  {
   "cell_type": "code",
   "execution_count": null,
   "metadata": {},
   "outputs": [],
   "source": [
    "e = math.sqrt( ((a-c)**2)+((b-d)**2) )"
   ]
  },
  {
   "cell_type": "code",
   "execution_count": null,
   "metadata": {},
   "outputs": [
    {
     "name": "stdout",
     "output_type": "stream",
     "text": [
      "Distance between points ( 3 ,  1 ) and ( 4 ,  2 ) is : 2.8284271247461903\n"
     ]
    }
   ],
   "source": [
    "print(\"Distance between points (\",a,\", \",c,\") and (\",b,\", \",d,\") is :\",e)"
   ]
  },
  {
   "cell_type": "code",
   "execution_count": null,
   "metadata": {},
   "outputs": [],
   "source": []
  },
  {
   "cell_type": "markdown",
   "metadata": {},
   "source": [
    "## 12. Feet to Centimeter Converter\n",
    "### Write a Python program to convert height in feet to centimetres.\n",
    "##### Program Console Sample 1:\n",
    "###### Enter Height in Feet: 5\n",
    "###### There are 152.4 Cm in 5 ft\n",
    "###### Reference:\n",
    "https://www.rapidtables.com/convert/length/feet-to-cm.html"
   ]
  },
  {
   "cell_type": "code",
   "execution_count": null,
   "metadata": {},
   "outputs": [
    {
     "name": "stdout",
     "output_type": "stream",
     "text": [
      "Enter Height In Feet: 4\n",
      "There Are  121.92  CM In  4.0 FT\n"
     ]
    }
   ],
   "source": [
    "x= float(input('Enter Height In Feet: '))\n",
    "y= 2.54\n",
    "z= x*y*12\n",
    "print(\"There Are \",z,\" CM In \",x,\"FT\")"
   ]
  },
  {
   "cell_type": "markdown",
   "metadata": {},
   "source": [
    "## 12. BMI Calculator\n",
    "### Write a Python program to calculate body mass index\n",
    "##### Program Console Sample 1:\n",
    "###### Enter Height in Cm: 180\n",
    "###### Enter Weight in Kg: 75\n",
    "###### Your BMI is 23.15"
   ]
  },
  {
   "cell_type": "code",
   "execution_count": 11,
   "metadata": {},
   "outputs": [
    {
     "name": "stdout",
     "output_type": "stream",
     "text": [
      "Enter Height in Cm: 180\n"
     ]
    }
   ],
   "source": [
    "height = float(input(\"Enter Height in Cm: \"))\n",
    "height = height / 100"
   ]
  },
  {
   "cell_type": "code",
   "execution_count": 15,
   "metadata": {},
   "outputs": [
    {
     "name": "stdout",
     "output_type": "stream",
     "text": [
      "Enter weight in KG: 75\n"
     ]
    }
   ],
   "source": [
    "weight = float(input(\"Enter weight in KG: \"))"
   ]
  },
  {
   "cell_type": "code",
   "execution_count": 16,
   "metadata": {},
   "outputs": [
    {
     "name": "stdout",
     "output_type": "stream",
     "text": [
      "Your BMI is 23.148148148148145\n"
     ]
    }
   ],
   "source": [
    "print(f\"Your BMI is {weight / height ** 2}\")"
   ]
  },
  {
   "cell_type": "markdown",
   "metadata": {},
   "source": [
    "## 13. Sum of n Positive Integers\n",
    "### Write a python program to sum of the first n positive integers\n",
    "#### Program Console Sample 1:\n",
    "###### Enter value of n: 5\n",
    "###### Sum of n Positive integers till 5 is 15"
   ]
  },
  {
   "cell_type": "code",
   "execution_count": null,
   "metadata": {},
   "outputs": [
    {
     "name": "stdout",
     "output_type": "stream",
     "text": [
      "Enter value of n: 7\n"
     ]
    }
   ],
   "source": [
    "value = int(input(\"Enter value of n: \"))\n",
    "n = value\n",
    "sum = 0"
   ]
  },
  {
   "cell_type": "code",
   "execution_count": null,
   "metadata": {},
   "outputs": [],
   "source": [
    "while value != 0:\n",
    "    sum += value\n",
    "    value -= 1"
   ]
  },
  {
   "cell_type": "code",
   "execution_count": null,
   "metadata": {},
   "outputs": [
    {
     "name": "stdout",
     "output_type": "stream",
     "text": [
      "Sum of Positive integers till 7 is 28\n"
     ]
    }
   ],
   "source": [
    "print(f\"Sum of Positive integers till {n} is {sum}\")"
   ]
  },
  {
   "cell_type": "markdown",
   "metadata": {},
   "source": [
    "## 14. Digits Sum of a Number\n",
    "### Write a Python program to calculate the sum of the digits in an integer\n",
    "#### Program Console Sample 1:\n",
    "##### Enter a number: 15\n",
    "###### Sum of 1 + 5 is 6\n",
    "#### Program Console Sample 2:\n",
    "##### Enter a number: 1234\n",
    "###### Sum of 1 + 2 + 3 + 4 is 10"
   ]
  },
  {
   "cell_type": "code",
   "execution_count": 28,
   "metadata": {},
   "outputs": [
    {
     "name": "stdout",
     "output_type": "stream",
     "text": [
      "Enter a number: 123123123\n"
     ]
    }
   ],
   "source": [
    "num = input(\"Enter a number: \")"
   ]
  },
  {
   "cell_type": "code",
   "execution_count": 29,
   "metadata": {},
   "outputs": [],
   "source": [
    "length = len(num) - 1\n",
    "total = 0"
   ]
  },
  {
   "cell_type": "code",
   "execution_count": 30,
   "metadata": {},
   "outputs": [],
   "source": [
    "while length !=-1:\n",
    "    total += int(num[length])\n",
    "    length -= 1"
   ]
  },
  {
   "cell_type": "code",
   "execution_count": 32,
   "metadata": {},
   "outputs": [
    {
     "name": "stdout",
     "output_type": "stream",
     "text": [
      "Sum of 123123123 is 18\n"
     ]
    }
   ],
   "source": [
    "print(f\"Sum of {num} is {total}\")"
   ]
  },
  {
   "cell_type": "markdown",
   "metadata": {},
   "source": [
    "## 16 .Decimal to Binary Converter\n",
    "#### Write a Python program to convert an decimal integer to binary"
   ]
  },
  {
   "cell_type": "markdown",
   "metadata": {},
   "source": [
    "#### Program Console Sample 1:\n",
    "##### Enter a decimal number: 5\n",
    "##### Binary Representation of 5 is 101\n",
    "\n",
    "##### Program Console Sample 2:\n",
    "##### Enter a decimal number: 32\n",
    "##### Binary Representation of 32 is 100000"
   ]
  },
  {
   "cell_type": "code",
   "execution_count": 24,
   "metadata": {},
   "outputs": [
    {
     "name": "stdout",
     "output_type": "stream",
     "text": [
      "Enter a decimal number: 32\n"
     ]
    }
   ],
   "source": [
    "decimal = int(input(\"Enter a decimal number: \"))\n",
    "binary = []"
   ]
  },
  {
   "cell_type": "code",
   "execution_count": 25,
   "metadata": {},
   "outputs": [],
   "source": [
    "while decimal != 0 and decimal != 1:\n",
    "    binary.append(int(decimal % 2))\n",
    "    decimal = int(decimal / 2) "
   ]
  },
  {
   "cell_type": "code",
   "execution_count": 26,
   "metadata": {},
   "outputs": [
    {
     "name": "stdout",
     "output_type": "stream",
     "text": [
      "Binary Representation of 1 is 100000"
     ]
    }
   ],
   "source": [
    "binary.append(1)\n",
    "#print(binary[::-1])\n",
    "binary = binary[::-1]\n",
    "print(f\"Binary Representation of {decimal} is \",end = '')\n",
    "\n",
    "for value in binary:\n",
    "    print(f\"{value}\", end = '')"
   ]
  },
  {
   "cell_type": "markdown",
   "metadata": {},
   "source": [
    "## 17 .Binary to Decimal Converter\n",
    "### Write a program to convert binary number to Decimal number\n",
    "\n",
    "#### Program Console Sample 1:\n",
    "##### Enter a Binary number: 1101\n",
    "##### Decimal Representation of 1101 is 13\n",
    "##### Program Console Sample 2:\n",
    "##### Enter a Binary number: 1001\n",
    "##### Decimal Representation of 1001 is 9"
   ]
  },
  {
   "cell_type": "code",
   "execution_count": 55,
   "metadata": {},
   "outputs": [
    {
     "name": "stdout",
     "output_type": "stream",
     "text": [
      "Enter a Binary number: 1101\n"
     ]
    }
   ],
   "source": [
    "binary = input(\"Enter a Binary number: \")\n",
    "b_len = len(binary) - 1\n",
    "counter = (int(b_len) + 1) * 2\n",
    "i = 0\n",
    "res = 0"
   ]
  },
  {
   "cell_type": "code",
   "execution_count": 56,
   "metadata": {},
   "outputs": [],
   "source": [
    "while int(counter) != 0:\n",
    "    if(int(binary[i]) == 1):\n",
    "        res += counter\n",
    "        i += 1\n",
    "    counter /= 2\n",
    "    "
   ]
  },
  {
   "cell_type": "code",
   "execution_count": 58,
   "metadata": {},
   "outputs": [
    {
     "name": "stdout",
     "output_type": "stream",
     "text": [
      "Decimal Representation of 1101 is 13\n"
     ]
    }
   ],
   "source": [
    "print(f\"Decimal Representation of {binary} is {int(res+1)}\")"
   ]
  },
  {
   "cell_type": "markdown",
   "metadata": {},
   "source": [
    "## 18. Vowel and Consonants Counter\n",
    "### Input a text and count the occurrences of vowels and consonant\n",
    "\n",
    "#### Program Console Sample 1:\n",
    "##### Enter text: QuickBrownFoxJumpsovertheDog\n",
    "##### Vowels: 9\n",
    "##### Consonants: 19"
   ]
  },
  {
   "cell_type": "code",
   "execution_count": 81,
   "metadata": {},
   "outputs": [
    {
     "name": "stdout",
     "output_type": "stream",
     "text": [
      "Enter text: farrukh i love pakistan\n"
     ]
    }
   ],
   "source": [
    "text = input(\"Enter text: \")\n",
    "text = text.lower()\n",
    "t_len = len(text) \n",
    "counter = 0\n",
    "vowels = 0\n",
    "consonants = 0"
   ]
  },
  {
   "cell_type": "code",
   "execution_count": 82,
   "metadata": {},
   "outputs": [],
   "source": [
    "while counter < t_len:\n",
    "    if(text[counter] == \"a\" or text[counter] == \"e\" or text[counter] == \"i\" or text[counter] == \"o\" or text[counter] == \"u\" ):\n",
    "        vowels += 1\n",
    "    else:\n",
    "        consonants += 1\n",
    "    counter += 1\n"
   ]
  },
  {
   "cell_type": "code",
   "execution_count": 83,
   "metadata": {},
   "outputs": [
    {
     "name": "stdout",
     "output_type": "stream",
     "text": [
      "Vowels: 8 \n",
      "Consonants: 15\n"
     ]
    }
   ],
   "source": [
    "print(f\"Vowels: {vowels} \\nConsonants: {consonants}\")"
   ]
  },
  {
   "cell_type": "markdown",
   "metadata": {},
   "source": [
    "## 19. Palindrome tester\n",
    "#### Write a program to check whether given input is palindrome or not\n",
    "\n",
    "#### Program Console Sample 1:\n",
    "##### Enter text: AHAText AHA is Palindrome\n",
    "\n",
    "#### Program Console Sample 2:\n",
    "##### Enter text: HelloText Hello is not a Palindrome"
   ]
  },
  {
   "cell_type": "code",
   "execution_count": 3,
   "metadata": {},
   "outputs": [
    {
     "name": "stdout",
     "output_type": "stream",
     "text": [
      "Enter text:AHATestAHA\n"
     ]
    }
   ],
   "source": [
    "text = input(\"Enter text:\")\n",
    "counter = 0\n",
    "check = []"
   ]
  },
  {
   "cell_type": "code",
   "execution_count": 4,
   "metadata": {},
   "outputs": [
    {
     "name": "stdout",
     "output_type": "stream",
     "text": [
      "AHATestAHA is Palindrome\n"
     ]
    }
   ],
   "source": [
    "while counter < len(text):\n",
    "    check.append(text[counter])\n",
    "    if(len(check) == 3):\n",
    "        temp_check = check[::-1]\n",
    "        if(temp_check == check):\n",
    "            print(f\"{text} is Palindrome\")\n",
    "            break\n",
    "        check = []\n",
    "    counter += 1\n",
    "    if(counter == len(text)):\n",
    "        print(f\"{text} is not Palindrome\")\n"
   ]
  },
  {
   "cell_type": "markdown",
   "metadata": {},
   "source": [
    "## 20. Count Alphabets, Numbers and Special Characters\n",
    "#### Write a Python program that accepts a string and calculate the number of digits and letters\n",
    "\n",
    "#### Program Console Sample 1:\n",
    "##### Enter text: Python 3.2\n",
    "##### Numbers = 2\n",
    "##### Alphabets = 6 \n",
    "##### Special Characters = 1\n",
    "##### Spaces = 1"
   ]
  },
  {
   "cell_type": "code",
   "execution_count": 5,
   "metadata": {},
   "outputs": [
    {
     "name": "stdout",
     "output_type": "stream",
     "text": [
      "Enter text: Farrukha303@gmail.com  hmm\n"
     ]
    }
   ],
   "source": [
    "text = input(\"Enter text: \")\n",
    "text = text.lower()\n",
    "t_len = len(text) \n",
    "counter = 0\n",
    "numbers = 0\n",
    "char = 0\n",
    "spaces = 0\n",
    "s_char = 0"
   ]
  },
  {
   "cell_type": "code",
   "execution_count": 8,
   "metadata": {},
   "outputs": [],
   "source": [
    "while counter < t_len:\n",
    "    if(text[counter] == \"1\" or text[counter] == \"2\" or text[counter] == \"3\" or text[counter] == \"4\" or text[counter] == \"5\" or text[counter] == \"6\" or text[counter] == \"7\" or text[counter] == \"8\" or text[counter] == \"9\" or text[counter] == \"0\" ):\n",
    "        numbers += 1\n",
    "    elif(text[counter] == \".\" or text[counter] == \"@\" or text[counter] == \"#\" or text[counter] == \"$\" or text[counter] == \",\"):\n",
    "        s_char += 1\n",
    "    elif(text[counter] == \" \"):\n",
    "        spaces += 1\n",
    "    else:\n",
    "        char += 1\n",
    "    counter += 1"
   ]
  },
  {
   "cell_type": "code",
   "execution_count": 10,
   "metadata": {},
   "outputs": [
    {
     "name": "stdout",
     "output_type": "stream",
     "text": [
      "Number: 3 \n",
      "Alphabetes: 19\n",
      "Special Characters: 2 \n",
      "Spaces: 2\n"
     ]
    }
   ],
   "source": [
    "print(f\"Number: {numbers} \\nAlphabetes: {char}\\nSpecial Characters: {s_char} \\nSpaces: {spaces}\")"
   ]
  },
  {
   "cell_type": "markdown",
   "metadata": {},
   "source": [
    "### 21. Write a Python program to construct the following pattern\n",
    "\n",
    "##### *\n",
    "##### *  *\n",
    "##### *  *  *\n",
    "##### *  *  *  *\n",
    "##### *  *  *  *  *\n",
    "##### *  *  *  *\n",
    "##### *  *  *\n",
    "##### *  *\n",
    "##### *"
   ]
  },
  {
   "cell_type": "code",
   "execution_count": 8,
   "metadata": {},
   "outputs": [],
   "source": [
    "i = 0\n",
    "j = 0\n",
    "k = 1\n",
    "key = 0"
   ]
  },
  {
   "cell_type": "code",
   "execution_count": 9,
   "metadata": {},
   "outputs": [
    {
     "name": "stdout",
     "output_type": "stream",
     "text": [
      "* \n",
      "\n",
      "* * \n",
      "\n",
      "* * * \n",
      "\n",
      "* * * * \n",
      "\n",
      "* * * * * \n",
      "\n",
      "* * * * \n",
      "\n",
      "* * * \n",
      "\n",
      "* * \n",
      "\n",
      "* \n",
      "\n"
     ]
    }
   ],
   "source": [
    "while i < 9:\n",
    "    j = 0\n",
    "    while j < k:\n",
    "        print(\"* \",end = '')\n",
    "        j += 1\n",
    "    print(\"\\n\")\n",
    "    if(k == 5):\n",
    "        key = 1\n",
    "    if(key == 1):\n",
    "        k -= 1\n",
    "    else:\n",
    "        k += 1\n",
    "    i += 1"
   ]
  },
  {
   "cell_type": "markdown",
   "metadata": {},
   "source": [
    "## 2. Write a Python program to construct the following pattern\n",
    "\n",
    "##### 1\n",
    "##### 1 2\n",
    "##### 1 2 3\n",
    "##### 1 2 3 4 \n",
    "##### 1 2 3 4 5\n",
    "##### 1 2 3 4 \n",
    "##### 1 2 3\n",
    "##### 1 2\n",
    "##### 1"
   ]
  },
  {
   "cell_type": "code",
   "execution_count": 13,
   "metadata": {},
   "outputs": [],
   "source": [
    "i = 0\n",
    "j = 0\n",
    "k = 2\n",
    "key = 0"
   ]
  },
  {
   "cell_type": "code",
   "execution_count": 14,
   "metadata": {},
   "outputs": [
    {
     "name": "stdout",
     "output_type": "stream",
     "text": [
      "1 \n",
      "\n",
      "1 2 \n",
      "\n",
      "1 2 3 \n",
      "\n",
      "1 2 3 4 \n",
      "\n",
      "1 2 3 4 5 \n",
      "\n",
      "1 2 3 4 \n",
      "\n",
      "1 2 3 \n",
      "\n",
      "1 2 \n",
      "\n",
      "1 \n",
      "\n"
     ]
    }
   ],
   "source": [
    "while i < 9:\n",
    "    j = 1\n",
    "    while j < k:\n",
    "        print(f\"{j} \",end = '')\n",
    "        j += 1\n",
    "    print(\"\\n\")\n",
    "    if(k == 6):\n",
    "        key = 1\n",
    "    if(key == 1):\n",
    "        k -= 1\n",
    "    else:\n",
    "        k += 1\n",
    "    i += 1"
   ]
  },
  {
   "cell_type": "markdown",
   "metadata": {},
   "source": [
    "## 3. Write a Python program to construct the following pattern\n",
    "\n",
    "##### 1\n",
    "##### 22\n",
    "##### 333\n",
    "##### 4444\n",
    "##### 55555\n",
    "##### 666666\n",
    "##### 7777777\n",
    "##### 88888888\n",
    "##### 999999999"
   ]
  },
  {
   "cell_type": "code",
   "execution_count": 21,
   "metadata": {},
   "outputs": [],
   "source": [
    "i = 1\n",
    "j = 0\n",
    "k = 2"
   ]
  },
  {
   "cell_type": "code",
   "execution_count": 22,
   "metadata": {},
   "outputs": [
    {
     "name": "stdout",
     "output_type": "stream",
     "text": [
      "1\n",
      "\n",
      "22\n",
      "\n",
      "333\n",
      "\n",
      "4444\n",
      "\n",
      "55555\n",
      "\n",
      "666666\n",
      "\n",
      "7777777\n",
      "\n",
      "88888888\n",
      "\n",
      "999999999\n",
      "\n"
     ]
    }
   ],
   "source": [
    "while i < 10:\n",
    "    j = 1\n",
    "    while j < k:\n",
    "        print(f\"{i}\",end = '')\n",
    "        j += 1\n",
    "    print(\"\\n\")\n",
    "    k += 1\n",
    "    i += 1"
   ]
  },
  {
   "cell_type": "code",
   "execution_count": null,
   "metadata": {},
   "outputs": [],
   "source": []
  }
 ],
 "metadata": {
  "kernelspec": {
   "display_name": "Python 3",
   "language": "python",
   "name": "python3"
  },
  "language_info": {
   "codemirror_mode": {
    "name": "ipython",
    "version": 3
   },
   "file_extension": ".py",
   "mimetype": "text/x-python",
   "name": "python",
   "nbconvert_exporter": "python",
   "pygments_lexer": "ipython3",
   "version": "3.7.3"
  }
 },
 "nbformat": 4,
 "nbformat_minor": 2
}
