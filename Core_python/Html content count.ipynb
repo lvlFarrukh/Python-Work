{
 "cells": [
  {
   "cell_type": "code",
   "execution_count": 69,
   "metadata": {},
   "outputs": [
    {
     "name": "stdout",
     "output_type": "stream",
     "text": [
      "<html>\n",
      "\n",
      "<head>\n",
      "<title>this is where the page title would go!</title>\n",
      "<style>\n",
      "body {\n",
      "  background-color: #000000;\n",
      "  font-family: Helvetica, Arial, sans-serif;\n",
      "  font-size: 14px;\n",
      "  color: white;\n",
      "}\n",
      "h1 {\n",
      "  font-size: 2em;\n",
      "}\n",
      "a:hover {\n",
      "  color: #cccccc;\n",
      "}\n",
      "p {\n",
      "  color: blue;\n",
      "}\n",
      ".redtext {\n",
      "  color: red;\n",
      "}\n",
      "p.redtext {\n",
      "  width: 100px;\n",
      "}\n",
      "</style>\n",
      "</head>\n",
      "\n",
      "<body>\n",
      "<h1>a header!</h1>\n",
      "<p>this is just a paragraph on the page</p>\n",
      "<p class=\"redtext\">this is just another paragraph on the page</p>\n",
      "<p>a third paragraph. insanity! <a href=\"http://google.com\">with a link!</a></p>\n",
      "</body>\n",
      "\n",
      "</html>\n",
      "\n",
      "~~~~~~~~~~~~~~~~~~~~~~~~~~~~~~~~~~~~~~~~~~~~~~~~~~~~~~~~~~~~~~~~~~~~~~~~~~~~~~~~~~~~~~~~~~~~~~~~~~~~\n",
      "                                              Contents\n",
      "~~~~~~~~~~~~~~~~~~~~~~~~~~~~~~~~~~~~~~~~~~~~~~~~~~~~~~~~~~~~~~~~~~~~~~~~~~~~~~~~~~~~~~~~~~~~~~~~~~~~\n",
      "No. of Words: 81\n",
      "No. of tags: 11\n",
      "No. of lines: 34\n",
      "No. of spaces: 52\n"
     ]
    }
   ],
   "source": [
    "with open(\"example_html_file.html\" , \"r\") as f_obj:\n",
    "    content = f_obj.read()\n",
    "    no_words = len(content.split())\n",
    "    no_tag = len(content.split(\"</\"))\n",
    "    no_lines = len(content.split(\"\\n\")) - len(content.split(\"\\n\\n\"))\n",
    "    no_spaces = len(content.split(\" \")) - len(content.split(\"\\n\\n\")) - len(content.split(\"  \"))\n",
    "    print(content)\n",
    "    print(f\"{'~' * 100}\")\n",
    "    print(f\"{' ' * 45} Contents\")\n",
    "    print(f\"{'~' * 100}\")\n",
    "    print(f\"No. of Words: {no_words}\")\n",
    "    print(f\"No. of tags: {no_tag}\")\n",
    "    print(f\"No. of lines: {no_lines}\")\n",
    "    print(f\"No. of spaces: {no_spaces}\")\n"
   ]
  },
  {
   "cell_type": "code",
   "execution_count": 64,
   "metadata": {},
   "outputs": [
    {
     "name": "stdout",
     "output_type": "stream",
     "text": [
      "\n"
     ]
    }
   ],
   "source": [
    "print()"
   ]
  },
  {
   "cell_type": "code",
   "execution_count": null,
   "metadata": {},
   "outputs": [],
   "source": []
  }
 ],
 "metadata": {
  "kernelspec": {
   "display_name": "Python 3",
   "language": "python",
   "name": "python3"
  },
  "language_info": {
   "codemirror_mode": {
    "name": "ipython",
    "version": 3
   },
   "file_extension": ".py",
   "mimetype": "text/x-python",
   "name": "python",
   "nbconvert_exporter": "python",
   "pygments_lexer": "ipython3",
   "version": "3.7.3"
  }
 },
 "nbformat": 4,
 "nbformat_minor": 2
}
