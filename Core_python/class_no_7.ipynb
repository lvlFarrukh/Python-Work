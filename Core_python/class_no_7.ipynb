{
 "cells": [
  {
   "cell_type": "code",
   "execution_count": 6,
   "metadata": {},
   "outputs": [
    {
     "name": "stdout",
     "output_type": "stream",
     "text": [
      "30\n",
      "30\n",
      "30\n"
     ]
    }
   ],
   "source": [
    "y = 30\n",
    "def fff():\n",
    "    print(y)\n",
    "    y = 10\n",
    "    print(y)\n",
    "fff()\n",
    "print(y)"
   ]
  },
  {
   "cell_type": "code",
   "execution_count": 2,
   "metadata": {},
   "outputs": [
    {
     "name": "stdout",
     "output_type": "stream",
     "text": [
      "Enter a city, or q to quite: lkjasd\n",
      "lkjasd not a cleanest city\n",
      "Enter a city, or q to quite: karachi\n",
      "It's one of the cleanest city\n"
     ]
    }
   ],
   "source": [
    "cleanist_city = [\"karachi\",\"tokoyo\",\"new york\",\"tucson\",\"honolulu\"]\n",
    "user_input = \"\"\n",
    "while user_input != \"q\":\n",
    "    user_input = input(\"Enter a city, or q to quite: \")\n",
    "    if user_input != \"q\":\n",
    "        if user_input in cleanist_city:\n",
    "            print(\"It's one of the cleanest city\")\n",
    "            break\n",
    "        else:\n",
    "            print(f\"{user_input} not a cleanest city\")"
   ]
  },
  {
   "cell_type": "code",
   "execution_count": 4,
   "metadata": {},
   "outputs": [
    {
     "name": "stdout",
     "output_type": "stream",
     "text": [
      "0\n",
      "3\n"
     ]
    }
   ],
   "source": [
    "self = 0\n",
    "print(self)\n",
    "init = 3\n",
    "print(init)"
   ]
  },
  {
   "cell_type": "code",
   "execution_count": 15,
   "metadata": {},
   "outputs": [
    {
     "name": "stdout",
     "output_type": "stream",
     "text": [
      "farrukh aslam 18\n"
     ]
    }
   ],
   "source": [
    "class patient():\n",
    "    age = 18\n",
    "    def __init__(this,fname,lname):\n",
    "        this.fname = fname\n",
    "        this.lname = lname\n",
    "    \n",
    "    def show(this):\n",
    "        print(f\"{this.fname} {this.lname} {this.age}\")\n",
    "\n",
    "o1 = patient(\"farrukh\",\"aslam\")\n",
    "o1.show()\n",
    "        "
   ]
  },
  {
   "cell_type": "code",
   "execution_count": 24,
   "metadata": {},
   "outputs": [
    {
     "name": "stdout",
     "output_type": "stream",
     "text": [
      "Pakistan Zindabad\n",
      "Pakistan Zindabad\n",
      "Pakistan Zindabad\n",
      "Pakistan Zindabad\n",
      "Pakistan Zindabad\n"
     ]
    }
   ],
   "source": [
    "with open(\"whatever.txt\", \"a\") as f:\n",
    "    f.write(\"\\nPakistan Zindabad\")\n",
    "    f.write(\"\\nPakistan Zindabad\")\n",
    "    f.write(\"\\nPakistan Zindabad\")\n",
    "    f.write(\"\\nPakistan Zindabad\")\n",
    "with open(\"whatever.txt\") as f:\n",
    "    print(f.read())"
   ]
  },
  {
   "cell_type": "code",
   "execution_count": null,
   "metadata": {},
   "outputs": [],
   "source": []
  }
 ],
 "metadata": {
  "kernelspec": {
   "display_name": "Python 3",
   "language": "python",
   "name": "python3"
  },
  "language_info": {
   "codemirror_mode": {
    "name": "ipython",
    "version": 3
   },
   "file_extension": ".py",
   "mimetype": "text/x-python",
   "name": "python",
   "nbconvert_exporter": "python",
   "pygments_lexer": "ipython3",
   "version": "3.7.3"
  }
 },
 "nbformat": 4,
 "nbformat_minor": 2
}
